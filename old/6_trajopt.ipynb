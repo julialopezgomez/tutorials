{
 "cells": [
  {
   "attachments": {},
   "cell_type": "markdown",
   "id": "7aea3ba4",
   "metadata": {},
   "source": [
    "# Tutorial 6: trajectory optimisation\n",
    "\n",
    "In this tutorial we are going to optimise the trajectory of a cannon firing a ball at a target.\n",
    "We are somehow limited by the capabilities of the python default solvers here, but this will be the opportunity to remind ourselves that non-linear programs are not things that are easy to solve.\n",
    "\n",
    "The problem is thus the following:\n",
    "We need to optimise the initial velocity of a canonball such that it hits the ground at a specified target location.\n",
    "This is the illustration that we have seen a few minutes ago in class, which I borrowed from Matthew Kelly (his whole video is interesting if you want further details on trajectory optimisation):\n",
    "http://www.matthewpeterkelly.com/tutorials/trajectoryOptimization/canon.html\n",
    "\n",
    "In this problem, our state is described by 4 variables, $\\mathbf{z} = [x,y,dx,dy]$ which describe the 2D positions and velocities of the ball. \n",
    "\n",
    "The decision variables are the initial velocity parameters $dx_0, dy_0$ (we always start from $x_0 = 0, y_0 = 0$) as well as the total duration of the trajectory $t$. Therefore our problem has only 3 decision variables.\n",
    "\n",
    "We will first model the simulation of the cannon being fired, and then write our optimisation problem\n",
    "\n",
    "\n",
    "## Writing the dynamics\n",
    "\n",
    "We can first compute the derivative of our state $\\mathbf{z}(t)$\n",
    "As usual let's import a bunch of useful libraries first and define a few variables:"
   ]
  },
  {
   "cell_type": "code",
   "execution_count": null,
   "id": "0336b42f",
   "metadata": {},
   "outputs": [],
   "source": [
    "import numpy as np\n",
    "import matplotlib.pyplot as plt\n",
    "from math import pi, cos, sin\n",
    "\n",
    "g = 1 #gravity of 1 for simplifying the problem\n",
    "m = 1 # mass of the object in kilos (assumed to be a point mass)\n",
    "c = 0.2 # quadratic air drag"
   ]
  },
  {
   "cell_type": "code",
   "execution_count": null,
   "id": "bf8092ca",
   "metadata": {},
   "outputs": [],
   "source": [
    "def canondynamics(t,z):\n",
    "    '''Computes the derivative of the state z'''\n",
    "    dx = z[2] #z = [x,y,dx,dy]\n",
    "    dy = z[3]\n",
    "    v = np.linalg.norm([dx,dy])\n",
    "    #First-order form (derivative of position states is velocity states)\n",
    "    dz = np.zeros(z.shape)\n",
    "    dz[:2] = z[2:]; #dz = [dx,dy,ddx,ddz], so dx, dy is a simple copy\n",
    "    fx = -c*dx*v #applying quadratic drag\n",
    "    fy = -c*dy*v - m*g #on y axis we further apply velocity\n",
    "    dz[2] = fx\n",
    "    dz[3] = fy\n",
    "    return dz "
   ]
  },
  {
   "cell_type": "markdown",
   "id": "df46e670",
   "metadata": {},
   "source": [
    "Our system has the form $\\dot{z} = f(z)$, which relates to an ODE. Rather than working out the equations by ourselves, we can use a scipy function that will perform the integration for us, called solve_ivp. Take a look at the doc to understand its use.\n",
    "In the following function we are simply going to integrate the dynamics for a while given an initial state. We will then fit a polynomial on the points above the ground to obtain the trajectory. "
   ]
  },
  {
   "cell_type": "code",
   "execution_count": null,
   "id": "e7509a3c",
   "metadata": {},
   "outputs": [],
   "source": [
    "from scipy.integrate import solve_ivp\n",
    "\n",
    "def simulate(z0):\n",
    "    '''Simulates the trajectory of the canonball until t = 100 (ignoring collisions)'''\n",
    "    res = solve_ivp(canondynamics, [0,100], z0, dense_output=False)\n",
    "    y = res[\"y\"]\n",
    "    trajx, trajy = y[0,:], y[1,:]    \n",
    "    # getting the last index before the ground is hit\n",
    "    idx = -1\n",
    "    for i, y in enumerate(trajy):\n",
    "        if y < 0:\n",
    "            idx = i+1\n",
    "            break\n",
    "    coefficients = np.polyfit(trajx[:idx], trajy[:idx], 10) #fit a degree 10 polynomial on this\n",
    "    poly_func = np.poly1d(coefficients)\n",
    "    return poly_func\n",
    "\n",
    "def plot_trajectory(z0, target):    \n",
    "    '''Given a target and an initial state condition plots the trajectory that results from the integration'''\n",
    "    poly_func = simulate(z0)\n",
    "    x = np.linspace(0, 100,1000) \n",
    "    x_up = [el for el in x if poly_func(el) >= -0.01 and el < target[0]+1.]\n",
    "    plt.plot(x_up, poly_func(x_up), label='trajectory for z0 =' + str(z0))  \n",
    "    plt.scatter(target[0],target[1])\n",
    "    plt.plot([x[0],max(x_up[-1],target[0])],[0,0], label='y = f(x)')  #ground\n",
    "    plt.xlabel('x')\n",
    "    plt.ylabel('y')\n",
    "    plt.grid(True)\n",
    "    plt.show()\n",
    "    "
   ]
  },
  {
   "cell_type": "markdown",
   "id": "13c48e07",
   "metadata": {},
   "source": [
    "Ideally, we should rather work out the time the trajectory intersects with the ground. You can try to solve this as an exercise."
   ]
  },
  {
   "cell_type": "markdown",
   "id": "5d024dcf",
   "metadata": {},
   "source": [
    "Let's try to plot a trajectory starting at angle 45 degrees with a magnitude of 6 meters per second:\n"
   ]
  },
  {
   "cell_type": "code",
   "execution_count": null,
   "id": "6e013142",
   "metadata": {},
   "outputs": [],
   "source": [
    "th0 = 45 * (pi / 180) # shooting angle\n",
    "v0 = 6\n",
    "dx0 = v0 * cos(th0)\n",
    "dy0 = v0 * sin(th0)\n",
    "\n",
    "z0 = np.array([0, 0, dx0, dy0])\n",
    "\n",
    "plot_trajectory(z0, target=[10.0, 0.0])"
   ]
  },
  {
   "cell_type": "markdown",
   "id": "836f2540",
   "metadata": {},
   "source": [
    "## Optimisation\n",
    "We are now going to solve our problem using numerical optimisation. \n",
    "We only have one control, the initial velocity, as well as the total time for the trajectory. That gives us 3 decision variables.\n",
    "\n",
    "Let us first solve a feasibility problem: Given a target, the following function generates a constraint / cost that unrolls the trajectory and returns the distance between the target and the actual location reached for a given initial condition. We decide that our trajectory is discretised into N collocation points"
   ]
  },
  {
   "cell_type": "code",
   "execution_count": null,
   "id": "5beedcdd",
   "metadata": {},
   "outputs": [],
   "source": [
    "N = 100\n",
    "\n",
    "def targetconstraint(target):\n",
    "    def constraint(x): #x = [dx0, dy0, t]\n",
    "        z0 = [0,0,x[0],x[1]] #retrieve initial state\n",
    "        #find end positions \n",
    "        t = x[-1] #retrieve time\n",
    "        dt = t/N\n",
    "        zprev = np.array(z0)\n",
    "        fprev = np.zeros(zprev.shape)\n",
    "        for i in range(N):\n",
    "            tcurrent = i*dt\n",
    "            fcurrent=canondynamics(tcurrent,zprev)\n",
    "            z = zprev + 0.5*dt * (fprev + fcurrent) #trapezoidal integration\n",
    "            fprev = fcurrent\n",
    "            zprev = z\n",
    "        return np.linalg.norm(z[:2]-target)\n",
    "    return constraint\n"
   ]
  },
  {
   "cell_type": "markdown",
   "id": "9088d1bc",
   "metadata": {},
   "source": [
    "Now let's solve this with BFGS:\n",
    "You'll see a couple of warnings popping up"
   ]
  },
  {
   "cell_type": "code",
   "execution_count": null,
   "id": "5e2d450b",
   "metadata": {},
   "outputs": [],
   "source": [
    "from scipy.optimize import fmin_bfgs\n",
    "\n",
    "target = [9.5, 0] \n",
    "xopt = fmin_bfgs(targetconstraint(target), z0, callback=None)\n",
    "\n",
    "print (\"the optimal initial velocity is: \", xopt[:2])\n",
    "print (\"the trajectory duration obtained is: \", xopt[-1])\n"
   ]
  },
  {
   "cell_type": "markdown",
   "id": "4e642265",
   "metadata": {},
   "source": [
    "Let us simulate this trajectory to see if we are where we want"
   ]
  },
  {
   "cell_type": "code",
   "execution_count": null,
   "id": "f5b0d28c",
   "metadata": {},
   "outputs": [],
   "source": [
    "zopt = [0.,0.,xopt[0], xopt[1]]\n",
    "plot_trajectory(zopt, target)"
   ]
  },
  {
   "cell_type": "markdown",
   "id": "11258fea",
   "metadata": {},
   "source": [
    "You should obtain something that is not so far. Increasing the number of knots to 200 should get you closer to the target"
   ]
  },
  {
   "cell_type": "code",
   "execution_count": null,
   "id": "09f69d1d",
   "metadata": {},
   "outputs": [],
   "source": [
    "N=200\n",
    "xopt = fmin_bfgs(targetconstraint(target), z0, callback=None)\n",
    "print (\"the optimal initial velocity is: \", xopt[:2])\n",
    "print (\"the trajectory duration obtained is: \", xopt[-1])\n",
    "zopt = [0.,0.,xopt[0], xopt[1]]\n",
    "plot_trajectory(zopt, target)"
   ]
  },
  {
   "cell_type": "markdown",
   "id": "1e4149a6",
   "metadata": {},
   "source": [
    "If you play around with the parameters, you will see that in many instances the solver will not converge unless a relevant initial guess is provided.\n",
    "\n",
    "## Exercises (optional):\n",
    "Write the code to display the discretised trajectory that you integrate linearly in your optimisation problem, and compare it with the result of the simulation."
   ]
  },
  {
   "cell_type": "code",
   "execution_count": null,
   "id": "74de81c3",
   "metadata": {},
   "outputs": [],
   "source": []
  }
 ],
 "metadata": {
  "kernelspec": {
   "display_name": "Python 3 (ipykernel)",
   "language": "python",
   "name": "python3"
  },
  "language_info": {
   "codemirror_mode": {
    "name": "ipython",
    "version": 3
   },
   "file_extension": ".py",
   "mimetype": "text/x-python",
   "name": "python",
   "nbconvert_exporter": "python",
   "pygments_lexer": "ipython3",
   "version": "3.8.17"
  }
 },
 "nbformat": 4,
 "nbformat_minor": 5
}
