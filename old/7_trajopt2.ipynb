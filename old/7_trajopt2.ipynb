{
 "cells": [
  {
   "cell_type": "markdown",
   "metadata": {},
   "source": [
    "# QP-based trajectory optimisation\n",
    "\n",
    "In this second tutorial on trajectory optimisation, we are going to optimise the trajectory for a robot manipulator similarly to what has been done in the lab. I decided to add an extra exercise just to make sure everyone had understood the process for the coming exam.\n",
    "\n",
    "\n"
   ]
  },
  {
   "cell_type": "code",
   "execution_count": 1,
   "metadata": {},
   "outputs": [
    {
     "name": "stdout",
     "output_type": "stream",
     "text": [
      "NB: as for all the tutorials, a magic command %do_not_load is introduced to hide the solutions to some questions. Change it for %load if you want to see (and execute) the solution.\n"
     ]
    }
   ],
   "source": [
    "import magic_donotload"
   ]
  },
  {
   "cell_type": "markdown",
   "metadata": {},
   "source": [
    "## Set up\n",
    "Let us import the standard libraries for the tutorials and load a new robot"
   ]
  },
  {
   "cell_type": "code",
   "execution_count": 2,
   "metadata": {},
   "outputs": [],
   "source": [
    "# %load tp3/generated/inverse_kinematics_import\n",
    "import pinocchio as pin\n",
    "import numpy as np\n",
    "import time\n",
    "from numpy.linalg import pinv,inv,norm,svd,eig\n",
    "from utils.load_ur5_with_obstacles import load_ur5_with_obstacles,Target # helper function to load scene\n",
    "import matplotlib.pylab as plt\n",
    "from utils.meshcat_viewer_wrapper import MeshcatVisualizer\n",
    "import unittest\n"
   ]
  },
  {
   "cell_type": "markdown",
   "metadata": {},
   "source": [
    "Let's load the complete UR5 model with obstacles"
   ]
  },
  {
   "cell_type": "code",
   "execution_count": 12,
   "metadata": {},
   "outputs": [],
   "source": [
    "robot = load_ur5_with_obstacles(reduced=False, obstacles = False)\n",
    "\n"
   ]
  },
  {
   "cell_type": "code",
   "execution_count": 13,
   "metadata": {},
   "outputs": [
    {
     "name": "stdout",
     "output_type": "stream",
     "text": [
      "You can open the visualizer by visiting the following URL:\n",
      "http://127.0.0.1:7001/static/\n"
     ]
    },
    {
     "data": {
      "text/html": [
       "\n",
       "            <div style=\"height: 400px; width: 100%; overflow-x: auto; overflow-y: hidden; resize: both\">\n",
       "            <iframe src=\"http://127.0.0.1:7001/static/\" style=\"width: 100%; height: 100%; border: none\"></iframe>\n",
       "            </div>\n",
       "            "
      ],
      "text/plain": [
       "<IPython.core.display.HTML object>"
      ]
     },
     "execution_count": 13,
     "metadata": {},
     "output_type": "execute_result"
    }
   ],
   "source": [
    "viz = MeshcatVisualizer(robot)\n",
    "viz.viewer.jupyter_cell()"
   ]
  },
  {
   "cell_type": "markdown",
   "metadata": {},
   "source": [
    "Let us define two configurations start and goal, and find a trajectory between both such that\n",
    "* the trajectory is continuous and differentiable\n",
    "* the joint limits are respected"
   ]
  },
  {
   "cell_type": "code",
   "execution_count": 14,
   "metadata": {},
   "outputs": [],
   "source": [
    "q_start = np.array([-0.62831853, -0.62831853, -0.31415927, -0.62831853, -0.62831853,\n",
    "       -0.62831853])\n",
    "\n",
    "q_end = - q_start\n",
    "viz.display(q_start)\n"
   ]
  },
  {
   "cell_type": "code",
   "execution_count": 15,
   "metadata": {},
   "outputs": [],
   "source": [
    "viz.display(q_start)\n",
    "\n",
    "robot.model.lowerPositionLimit = q_start.copy()\n",
    "robot.model.upperPositionLimit = q_end.copy()\n"
   ]
  },
  {
   "cell_type": "markdown",
   "metadata": {},
   "source": [
    "Let us first see that a simple linear interpolation resolves our problem"
   ]
  },
  {
   "cell_type": "code",
   "execution_count": 16,
   "metadata": {},
   "outputs": [],
   "source": [
    "def jointlimitsviolated(robot,q):\n",
    "    up = max(q - robot.model.upperPositionLimit)\n",
    "    down = max(robot.model.lowerPositionLimit - q)\n",
    "    '''Return true if config not in joint limits'''\n",
    "    return max(0,max(up,down)) > 0.\n",
    "\n",
    "def interpolate(q_start, q_end, t):\n",
    "    assert (0. <= t and t <= 1)\n",
    "    return q_start + (q_end - q_start) * t\n",
    "\n",
    "nbconfigs = 1000\n",
    "inc = 1. / nbconfigs\n",
    "for i in range(nbconfigs):\n",
    "    q = interpolate(q_start, q_end, i*inc)\n",
    "    viz.display(q)\n",
    "    if jointlimitsviolated(robot, q):\n",
    "        print(\"joint limits violation at configuration \", i)"
   ]
  },
  {
   "cell_type": "markdown",
   "metadata": {},
   "source": [
    "no violation. But what if we want to include a cost?\n",
    "\n",
    "## Setting up the trajectory formulation\n"
   ]
  },
  {
   "cell_type": "markdown",
   "metadata": {},
   "source": [
    "We will formulate our optimisation problem using a single degree 3 polynomial to represent our trajectory.\n",
    "As we have seen before we could use a variety of curves to represent this, each with its specific pros and cons.\n",
    "In this example we will use a hermite cubic spline that has the following formulation on a [0,1] interval:\n",
    "\n",
    "$$ \\boldsymbol{p}(t) = \\left(2t^3 - 3t^2 + 1\\right) \\boldsymbol{p}_0 + \\left(t^3 - 2t^2 + t\\right) \\boldsymbol{m}_0 + \\left(-2t^3 + 3t^2\\right) \\boldsymbol{p}_1 + \\left(t^3 - t^2\\right) \\boldsymbol{m}_1 $$\n",
    "\n",
    "where $\\boldsymbol{p}_0 $ and $\\boldsymbol{p}_1$ are the initial and final control points and $\\boldsymbol{m}_0 $ and $\\boldsymbol{m}_1$ are the starting and ending tangent (ie velocity).\n",
    "\n",
    "We can observe that if t is fixed the expression of the polynomial is linear in the control variables $\\boldsymbol{m}_i $ and $\\boldsymbol{p}_i$. \n",
    "\n",
    "With this formulation we can see that in our case the $\\boldsymbol{p}_i$ are constant, and only the initial velocities are variables of our problem. Indeed $\\boldsymbol{p}_0 = q_{start}$ and $\\boldsymbol{p}_1 = q_{end}$ .\n",
    "\n",
    "This also gives us the dimension of our control points, ie 6.\n",
    "As a result, we have 12 variables to consider in our optimisation problem, 6 for $\\boldsymbol{m}_0 $ and 6 more for $\\boldsymbol{m}_1$.\n",
    "\n",
    "### discretising the curve\n",
    "To verify our constraints, we decide to only verify that they are satisfied at discrete points along the trajectory.\n",
    "For instance, we can decide to discretise the trajectory into N points. Each of these points only depends on the control points of the spline, since t is fixed. This will thus give us a linear expression of any point as a function of $\\boldsymbol{m}_0 $ and $\\boldsymbol{m}_1 $, which we can write in matrix form:\n",
    "\n",
    "\n"
   ]
  },
  {
   "cell_type": "markdown",
   "metadata": {},
   "source": [
    "$$ \\boldsymbol{p}_{i} = \\underbrace{\\left(t_i^3 - 2_i^2 + t_i\\right)}_{\\boldsymbol{d}_i} \\boldsymbol{m}_0 +  \\underbrace{\\left(t_i^3 - t_i^2\\right)}_{\\boldsymbol{e}_i} \\boldsymbol{m}_1 + \\underbrace{\\left(2t_i^3 - 3t_i^2 + 1\\right) \\boldsymbol{p}_0 + \\left(-2t_i^3 + 3t_i^2\\right) \\boldsymbol{p}_1}_{\\boldsymbol{b}_i}$$\n",
    "\n",
    "defining $\\mathbf{x} = [\\mathbf{m}_0; \\mathbf{m}_1]^T $ we can then write in matrix form:\n",
    "\n",
    "$$ \\boldsymbol{p}_{i} = diag(\\underbrace{\\begin{bmatrix}\n",
    "\\mathbf{d}_i & \\mathbf{d}_i &\\mathbf{d}_i & \\boldsymbol{e}_i  & \\boldsymbol{e}_i & \\boldsymbol{e}_i\n",
    "\\end{bmatrix}}_{\\mathbf{A}_i}) \\boldsymbol{x}+ \\boldsymbol{b}_i $$\n",
    "\n",
    "Let us write the function that computes the matrices $\\mathbf{A}_i$ and $\\mathbf{b}_i$:"
   ]
  },
  {
   "cell_type": "code",
   "execution_count": 17,
   "metadata": {},
   "outputs": [],
   "source": [
    "def pi(p0, p1, ti):\n",
    "    ti2 = ti *ti\n",
    "    ti3 = ti2*ti\n",
    "    di = ti3 - 2* ti2 + ti\n",
    "    ei = ti3 - ti2\n",
    "    bi = (2*ti3 - 3* ti2 + 1) * p0 + (3*ti2 - 2*ti3) * p1\n",
    "    Ai = np.diag(np.array([di,di,di,ei,ei,ei]))\n",
    "    return (Ai, bi)\n"
   ]
  },
  {
   "cell_type": "markdown",
   "metadata": {},
   "source": [
    "## Dealing with joint constraints\n",
    "\n",
    "To find a trajectory that respects joint limits, we will check that all discretised point satisfy joint limits.\n",
    "For each $\\mathbf{p}_i$, we need to verify that $\\mathbf{p}_i \\leq \\mathbf{q}^+$ and $\\mathbf{q}^- \\leq \\mathbf{p}_i$.\n",
    "\n",
    "This means that we must verify \n",
    "\n",
    "$$\\mathbf{A}_i \\mathbf{x} + \\mathbf{b}_i \\leq \\mathbf{q}^+ $$, ie \n",
    "$$\\mathbf{A}_i \\mathbf{x} \\leq \\mathbf{q}^+ - \\mathbf{b}_i  $$\n",
    "\n",
    "Similarly we write\n",
    "$$\\mathbf{A}_i \\mathbf{x} + \\mathbf{b}_i \\geq \\mathbf{q}^-$$, which gives\n",
    "\n",
    "$$\\mathbf{b}_i - \\mathbf{q}^- \\geq -\\mathbf{A}_i \\mathbf{x} $$\n",
    "\n",
    "Getting q_min and q_max is easy:"
   ]
  },
  {
   "cell_type": "code",
   "execution_count": 18,
   "metadata": {},
   "outputs": [],
   "source": [
    "qmax =  robot.model.upperPositionLimit\n",
    "qmin =  robot.model.lowerPositionLimit\n",
    "nsteps = 3 # check constraints 48 times between start and end"
   ]
  },
  {
   "cell_type": "markdown",
   "metadata": {},
   "source": [
    "We can thus easily define the matrix inequality to satisfy joint limits at position i:"
   ]
  },
  {
   "cell_type": "code",
   "execution_count": 19,
   "metadata": {},
   "outputs": [],
   "source": [
    "def jointlimitconstraint(p0, p1, ti):\n",
    "    (Ai, bi) = pi(p0, p1, ti)\n",
    "    bmin = bi - qmin\n",
    "    Amin = -Ai\n",
    "    bmax = qmax - bi\n",
    "    Amax = Ai.copy()\n",
    "    #now stacking the constraints\n",
    "    A = np.vstack([Amin,Amax])\n",
    "    b = np.concatenate((bmin,bmax))\n",
    "    return (A,b)\n",
    "\n",
    "A0, b0 = jointlimitconstraint(q_start, q_end, 0.5)"
   ]
  },
  {
   "cell_type": "markdown",
   "metadata": {},
   "source": [
    "We can now stack all constraints into one big matrix and vector that will give us the inequalities for all discrete points and solve our optimisation problem using quadprog (for an introduction to quadprog take a look [here](https://scaron.info/blog/quadratic-programming-in-python.html) )"
   ]
  },
  {
   "cell_type": "code",
   "execution_count": 30,
   "metadata": {},
   "outputs": [],
   "source": [
    "A = np.zeros((0,6))#empty matrix\n",
    "b = np.zeros(0) #empty vector\n",
    "\n",
    "for i in range(1, nsteps):\n",
    "    ti = 1. / nsteps * i\n",
    "    Ai, bi = jointlimitconstraint(q_start, q_end, ti)\n",
    "    A = np.vstack([A,Ai])\n",
    "    b = np.concatenate((b,bi))\n",
    "   \n",
    "from quadprog import solve_qp\n",
    "\n",
    "#solves a feasibility qp given a constraint matrix A <= b \n",
    "def solve_qp_feasibility(A,b):\n",
    "    #create a simple cost as we are only looking for a feasible solution for now\n",
    "    G = np.eye(6); a = np.zeros(6)\n",
    "    return solve_qp(G,a,-A.T,-b)\n",
    "\n",
    "res = solve_qp_feasibility(A,b)\n",
    "\n",
    "\n",
    "def plot_from_res(x):\n",
    "    for i in range(1000):\n",
    "        Ai, bi = pi(q_start, q_end, 1./1000*i)\n",
    "        p = Ai.dot(x) + bi\n",
    "        viz.display(p)\n",
    "\n",
    "plot_from_res(res[0])\n",
    "        "
   ]
  },
  {
   "cell_type": "markdown",
   "metadata": {},
   "source": [
    "The solution we obtained is such that m0 and m1 are zeros. You can write the code that computes the corresponding curve and displays it to verify that this corresponds to the linear interpolation. So apparently these constraints were not useful! Let's consider the same problem with a cost function that maximises uniformly the start and end velocities along the positive axis:"
   ]
  },
  {
   "cell_type": "code",
   "execution_count": 40,
   "metadata": {},
   "outputs": [],
   "source": [
    "def solve_qp_max_angle_values(A,b):\n",
    "    #create a simple cost as we are only looking for a feasible solution for now\n",
    "    G = np.eye(6)*0.001; a = -np.ones(6) * 100\n",
    "    return solve_qp(G,a,-A.T,-b)\n",
    "\n",
    "res2 = solve_qp_max_angle_values(A,b)\n",
    "plot_from_res(res2[0])"
   ]
  },
  {
   "cell_type": "markdown",
   "metadata": {},
   "source": [
    "### Additional considerations\n",
    "\n",
    "This was a rather naive cost function. Write one that minimises the sum of all joint angles for the 3rd joint. You can achieve this using the pi function again and integrating it in your sum."
   ]
  },
  {
   "cell_type": "code",
   "execution_count": null,
   "metadata": {},
   "outputs": [],
   "source": []
  }
 ],
 "metadata": {
  "kernelspec": {
   "display_name": "Python 3 (ipykernel)",
   "language": "python",
   "name": "python3"
  },
  "language_info": {
   "codemirror_mode": {
    "name": "ipython",
    "version": 3
   },
   "file_extension": ".py",
   "mimetype": "text/x-python",
   "name": "python",
   "nbconvert_exporter": "python",
   "pygments_lexer": "ipython3",
   "version": "3.8.10"
  }
 },
 "nbformat": 4,
 "nbformat_minor": 2
}
