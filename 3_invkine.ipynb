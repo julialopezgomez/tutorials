{
 "cells": [
  {
   "cell_type": "markdown",
   "metadata": {},
   "source": [
    "# Inverse kinematics\n",
    "This notebook considers the problem of inverse kinematics, ie solving at each control cycle of the robot a quadratic program from the derivatives (jacobian) of the current state. It introduces the basic function to compute the Jacobians of the robot, and how to use them to compute an inverse-kinematics control law. One of the key difficulties is to understand in which frames each quantities is computed (this might be in the world frame, in the local frame attached to the end-effector, in some arbitrary goal frame, etc), as we should never mix quantities expressed in different frames. \n"
   ]
  },
  {
   "cell_type": "code",
   "execution_count": 1,
   "metadata": {},
   "outputs": [
    {
     "name": "stdout",
     "output_type": "stream",
     "text": [
      "NB: as for all the tutorials, a magic command %do_not_load is introduced to hide the solutions to some questions. Change it for %load if you want to see (and execute) the solution.\n"
     ]
    }
   ],
   "source": [
    "import magic_donotload"
   ]
  },
  {
   "cell_type": "markdown",
   "metadata": {},
   "source": [
    "## Set up\n",
    "Let us import the standard libraries for the tutorials and load a new robot"
   ]
  },
  {
   "cell_type": "code",
   "execution_count": 2,
   "metadata": {},
   "outputs": [],
   "source": [
    "# %load tp3/generated/inverse_kinematics_import\n",
    "import pinocchio as pin\n",
    "import numpy as np\n",
    "import time\n",
    "from numpy.linalg import pinv,inv,norm,svd,eig\n",
    "from tp3.tiago_loader import loadTiago\n",
    "import matplotlib.pylab as plt\n",
    "from utils.meshcat_viewer_wrapper import MeshcatVisualizer\n",
    "import unittest\n"
   ]
  },
  {
   "cell_type": "markdown",
   "metadata": {},
   "source": [
    "We will use the Tiago robot (https://youtu.be/6BwRqwD066g). This mobile manipulator from PAL Robotics as a mobile basis which can move in the plane (3 degrees of freedom or dof), a manipulator arm (7 dof) and a head (2 dof) both mounted on a prismatic axis moving vertically (1 dof). This makes 3 dof for the basis, and 9 dof for the body. It also has 2 extra joints tot figure the wheels, which are not very useful for this notebook. The wheels and the basis rotations are represented by the cos and sin of the angle. The size of the configuration vector is then 18, while the velocity vector has dimension 15.\n",
    "\n",
    "A load function is available to make it easy to load the robot."
   ]
  },
  {
   "cell_type": "code",
   "execution_count": 3,
   "metadata": {},
   "outputs": [
    {
     "name": "stdout",
     "output_type": "stream",
     "text": [
      "You can open the visualizer by visiting the following URL:\n",
      "http://127.0.0.1:7002/static/\n"
     ]
    }
   ],
   "source": [
    "# %load tp3/generated/inverse_kinematics_robot\n",
    "robot = loadTiago()\n",
    "viz = MeshcatVisualizer(robot)\n"
   ]
  },
  {
   "cell_type": "code",
   "execution_count": 4,
   "metadata": {},
   "outputs": [
    {
     "data": {
      "text/html": [
       "\n",
       "            <div style=\"height: 400px; width: 100%; overflow-x: auto; overflow-y: hidden; resize: both\">\n",
       "            <iframe src=\"http://127.0.0.1:7002/static/\" style=\"width: 100%; height: 100%; border: none\"></iframe>\n",
       "            </div>\n",
       "            "
      ],
      "text/plain": [
       "<IPython.core.display.HTML object>"
      ]
     },
     "execution_count": 4,
     "metadata": {},
     "output_type": "execute_result"
    }
   ],
   "source": [
    "q0 = robot.q0\n",
    "viz.display(q0)\n",
    "viz.viewer.jupyter_cell()"
   ]
  },
  {
   "cell_type": "markdown",
   "metadata": {},
   "source": [
    "The configuration is represented by a vector of larger dimension, subject to constraints (cos^2+sin^2=1). It is not possible to randomly sample a configuration vector q, as these constraints should be respected. Similarly, we should take care when integrating a velocity as summing a configuration q with a velocity v will not work (dimensions do not match). Two functions in Pinocchio implements these functionnalities."
   ]
  },
  {
   "cell_type": "code",
   "execution_count": 5,
   "metadata": {},
   "outputs": [
    {
     "name": "stdout",
     "output_type": "stream",
     "text": [
      "q\t\t\tqnext\t\t\tdiff\n",
      "0.661930692224731\t0.6621404376707\t0.000210\n",
      "-0.9308557789450771\t-0.9329079289248609\t0.002052\n",
      "-0.9441109497210755\t-0.9410871169203382\t0.003024\n",
      "-0.32962784259945166\t-0.3381642180458566\t0.008536\n",
      "0.18539506766730687\t0.18429277917862608\t0.001102\n",
      "1.8449182276678642\t1.8477683514986907\t0.002850\n",
      "-1.5503066256780476\t-1.5507646863204703\t0.000458\n",
      "-1.5769210738065516\t-1.5847616608078385\t0.007841\n",
      "-0.2089568846535494\t-0.20786981872982013\t0.001087\n",
      "-0.34563394194810515\t-0.34092986857031504\t0.004704\n",
      "0.5280874029402121\t0.5374291967140712\t0.009342\n",
      "0.3727044900528944\t0.3709498976767332\t0.001755\n",
      "1.126880108065218\t1.1358809542376522\t0.009001\n",
      "0.5034842661798797\t0.5128344217096202\t0.009350\n",
      "0.9857200500325156\t0.9860815249901469\t0.000361\n",
      "0.16839234829378327\t0.16626252155283242\t0.002130\n",
      "-0.8376485530951581\t-0.8387487598218624\t0.001100\n",
      "-0.546209576534125\t-0.5445186111578629\t0.001691\n"
     ]
    }
   ],
   "source": [
    "q = pin.randomConfiguration(robot.model)\n",
    "vq = np.random.rand(robot.model.nv)*2-1\n",
    "DT = 1e-2\n",
    "# you integrate the velocity at configuration q for a time DT to get the next configuration\n",
    "qnext = pin.integrate(robot.model,q,vq*DT)\n",
    "\n",
    "print(\"q\\t\\t\\tqnext\\t\\t\\tdiff\")\n",
    "err = np.abs(q-qnext)\n",
    "for i in range(len(q)):\n",
    "    print(f\"{q[i]}\\t{qnext[i]}\\t{err[i]:.6f}\")\n"
   ]
  },
  {
   "cell_type": "markdown",
   "metadata": {},
   "source": [
    "A simple example moving the robot in the viewer following a constant (random) velocity is as follows. The trajectory is not nice, we are just moving joints at random velocities with no constraints."
   ]
  },
  {
   "cell_type": "code",
   "execution_count": 6,
   "metadata": {},
   "outputs": [],
   "source": [
    "for t in range(100):\n",
    "    q = pin.integrate(robot.model,q,vq*DT)\n",
    "    viz.display(q)\n",
    "    time.sleep(DT/10)"
   ]
  },
  {
   "cell_type": "markdown",
   "metadata": {},
   "source": [
    "The robot is mobile, hence the camera view in the viewer is not always centered. You can also see here that respecting joint limits might be a good idea!"
   ]
  },
  {
   "cell_type": "markdown",
   "metadata": {},
   "source": [
    "## Forward kinematics and Jacobian\n",
    "We recall first the basic method to compute the robot forward kinematics.\n",
    "We will consider two frames of interest on the robot: the first one, named `tool` is at the tip of the end-effector ; the second one, named `basis`, is on the front of the robot basis, 10 cm above the ground. Both are represented in meshcat by a frame composed of three RGB arrows. "
   ]
  },
  {
   "cell_type": "code",
   "execution_count": 7,
   "metadata": {},
   "outputs": [],
   "source": [
    "# %load tp3/generated/inverse_kinematics_frames\n",
    "IDX_TOOL = robot.model.getFrameId('frametool') # the frame at the tip of the end effector\n",
    "IDX_BASIS = robot.model.getFrameId('framebasis') # the frame at the base of the robot, 10cm above the ground"
   ]
  },
  {
   "cell_type": "code",
   "execution_count": 8,
   "metadata": {},
   "outputs": [
    {
     "data": {
      "text/plain": [
       "Frame name: frametool paired to (parent joint/ previous frame)(9/52)\n",
       "with relative placement wrt parent joint:\n",
       "  R =\n",
       "1 0 0\n",
       "0 1 0\n",
       "0 0 1\n",
       "  p =    0    0 0.08\n",
       "containing inertia:\n",
       "  m = 0\n",
       "  c = 0 0 0\n",
       "  I = \n",
       "0 0 0\n",
       "0 0 0\n",
       "0 0 0"
      ]
     },
     "execution_count": 8,
     "metadata": {},
     "output_type": "execute_result"
    }
   ],
   "source": [
    "robot.model.frames[IDX_TOOL]"
   ]
  },
  {
   "cell_type": "markdown",
   "metadata": {},
   "source": [
    "### Computing frame placement\n",
    "These frames are computed by the Pinocchio function framesForwardKinematics, whose results are stored in robot.data.oMf.     "
   ]
  },
  {
   "cell_type": "code",
   "execution_count": 9,
   "metadata": {},
   "outputs": [
    {
     "name": "stdout",
     "output_type": "stream",
     "text": [
      "Tool placement:   R =\n",
      " -0.129714  -0.758802  -0.638274\n",
      "-0.0350824   0.646822  -0.761834\n",
      "  0.990931 -0.0764284  -0.110523\n",
      "  p = 0.711373 -1.34076 0.153651\n",
      "\n",
      "Basis placement:   R =\n",
      "-0.323354  0.946278         0\n",
      "-0.946278 -0.323354         0\n",
      "        0         0         1\n",
      "  p = 0.669123 -1.38464     0.15\n",
      "\n"
     ]
    }
   ],
   "source": [
    "pin.framesForwardKinematics(robot.model,robot.data,q)\n",
    "print(\"Tool placement:\",robot.data.oMf[IDX_TOOL])\n",
    "print(\"Basis placement:\",robot.data.oMf[IDX_BASIS])"
   ]
  },
  {
   "cell_type": "markdown",
   "metadata": {},
   "source": [
    "It is very important to notice the instruction pattern (which is standard in all Pinocchio functions): first call a whole-body algorithm (here *pin.framesForwardKinematics*), then access the results into *robot.data*. "
   ]
  },
  {
   "cell_type": "markdown",
   "metadata": {},
   "source": [
    "The tool-placement matrix oMtool represents the displacement from the world frame F_o to the tool frame F_tool. It is composed on a rotation matrix oRtool and a 3D vector o_OT: oMf = [ oRf o_OT ], when o_OT is the vector from the origin of frame F_o to the origin of from F_tool ; this vector is expressed in the world frame F_o. We can instead express OT in the tool frame F_tool by multiplying it by oRtool:"
   ]
  },
  {
   "cell_type": "code",
   "execution_count": 10,
   "metadata": {},
   "outputs": [],
   "source": [
    "oMtool = robot.data.oMf[IDX_TOOL]\n",
    "oRtool = oMtool.rotation\n",
    "o_OT = oMtool.translation # vector from the origin of world frame O to the origin of the tool frame T\n",
    "tool_OT = oRtool.T @ o_OT # vector OT expressed in the tool frame"
   ]
  },
  {
   "cell_type": "markdown",
   "metadata": {},
   "source": [
    "Beware of the multiplication operator in numpy. The operator* is (unintuitively) mapped to the coefficient-wise multiplication ... i.e. not at all the matrix multiplication. You should use the operator @ to get the real matrix-matrix product. \n",
    "Never mind, you will likely be tricked at least once by this design pattern. If you don't like it ... well there is nothing to do, this is the basic matrix library in Python, the world most used language. "
   ]
  },
  {
   "cell_type": "markdown",
   "metadata": {},
   "source": [
    "### Computing Jacobians\n",
    "The jacobian of a frame of the robot is computed using pin.computeFrameJacobian."
   ]
  },
  {
   "cell_type": "code",
   "execution_count": 11,
   "metadata": {},
   "outputs": [
    {
     "data": {
      "text/plain": [
       "(6, 15)"
      ]
     },
     "execution_count": 11,
     "metadata": {},
     "output_type": "execute_result"
    }
   ],
   "source": [
    "Jtool = pin.computeFrameJacobian(robot.model,robot.data,q,IDX_TOOL)\n",
    "Jtool.shape"
   ]
  },
  {
   "cell_type": "markdown",
   "metadata": {},
   "source": [
    "This matrix has 6 rows and NV=15 columns. It corresponds to the \"spatial\" 6D velocity of the end effector. Let's first focus on the 3 first rows, corresponding to the linear velocity."
   ]
  },
  {
   "cell_type": "code",
   "execution_count": 12,
   "metadata": {},
   "outputs": [
    {
     "data": {
      "text/plain": [
       "(3, 15)"
      ]
     },
     "execution_count": 12,
     "metadata": {},
     "output_type": "execute_result"
    }
   ],
   "source": [
    "Jtool3 = Jtool[:3,:]\n",
    "Jtool3.shape"
   ]
  },
  {
   "cell_type": "markdown",
   "metadata": {},
   "source": [
    "#### Jacobian as a velocity operator\n",
    "A first way to understand what is this matrix is to see that as an operator that converts the velocity in the configuration space into the linear velocity of the end effector."
   ]
  },
  {
   "cell_type": "code",
   "execution_count": 13,
   "metadata": {},
   "outputs": [
    {
     "name": "stdout",
     "output_type": "stream",
     "text": [
      "linear velocity vtool: [-0.08570321 -0.35356509 -0.17897427]\n"
     ]
    }
   ],
   "source": [
    "vtool = Jtool3 @ vq\n",
    "print(\"linear velocity vtool:\",vtool)"
   ]
  },
  {
   "cell_type": "markdown",
   "metadata": {},
   "source": [
    "But in which frame is vtool expressed? The choice in Pinocchio (following algorithmic principles described in [Featherstone 2009]) is to express quantities in the local frame by default. So vtool is expressed in the tool frame F_tool (or more precisely, the Galilean frame coinciding with F_tool at the current time instant). We would better denote it with its frame."
   ]
  },
  {
   "cell_type": "code",
   "execution_count": 14,
   "metadata": {},
   "outputs": [
    {
     "name": "stdout",
     "output_type": "stream",
     "text": [
      "diff between default and world aligned Jacobian: 0.0\n"
     ]
    }
   ],
   "source": [
    "DEFAULTtool_Jtool = pin.computeFrameJacobian(robot.model,robot.data,q,IDX_TOOL)\n",
    "tool_Jtool = pin.computeFrameJacobian(robot.model,robot.data,q,IDX_TOOL,pin.LOCAL)\n",
    "tool_Jtool3 = tool_Jtool[:3,:]\n",
    "tool_vtool = tool_Jtool3 @ vq\n",
    "\n",
    "print(\"diff between default and world aligned Jacobian:\",np.linalg.norm(DEFAULTtool_Jtool-tool_Jtool))"
   ]
  },
  {
   "cell_type": "markdown",
   "metadata": {},
   "source": [
    "We are using long variable names. In the code, these explicit notations are maybe too much. It is your choice to use them or not. \n",
    "The tool velocity is easier to interpret in the world frame."
   ]
  },
  {
   "cell_type": "code",
   "execution_count": 15,
   "metadata": {},
   "outputs": [],
   "source": [
    "o_vtool = oRtool @ tool_vtool"
   ]
  },
  {
   "cell_type": "markdown",
   "metadata": {},
   "source": [
    "We generalise this notation to the jacobian expressed in the world frame F_o:"
   ]
  },
  {
   "cell_type": "code",
   "execution_count": 16,
   "metadata": {},
   "outputs": [
    {
     "name": "stdout",
     "output_type": "stream",
     "text": [
      "diff between computed jacobian and pinocchio jacobian in world: 3.941030652609303\n",
      "diff between computed jacobian and pinocchio jacobian in local world aligned: 9.59521399610783e-16\n"
     ]
    }
   ],
   "source": [
    "COMPUTED_o_Jtool3 = o_Jtool3 = oRtool @ tool_Jtool3\n",
    "PIN_o_Jtool3 = pin.computeFrameJacobian(robot.model,robot.data,q,IDX_TOOL,pin.WORLD)[:3,:]\n",
    "PIN_oaligned_Jtool3 = pin.computeFrameJacobian(robot.model,robot.data,q,IDX_TOOL,pin.LOCAL_WORLD_ALIGNED)[:3,:]\n",
    "\n",
    "print(\"diff between computed jacobian and pinocchio jacobian in world:\",\n",
    "      np.linalg.norm(COMPUTED_o_Jtool3-PIN_o_Jtool3))\n",
    "\n",
    "print(\"diff between computed jacobian and pinocchio jacobian in local world aligned:\",\n",
    "      np.linalg.norm(COMPUTED_o_Jtool3-PIN_oaligned_Jtool3))\n",
    "\n",
    "# we must be working in the LOCAL_WORLD_ALIGNED frame because oMtool = robot.data.oMf[IDX_TOOL] , \n",
    "# where oRtool comes from, must be defaultly expressed by pinocchio in the LOCAL_WORLD_ALIGNED frame."
   ]
  },
  {
   "cell_type": "markdown",
   "metadata": {},
   "source": [
    "#### Jacobian as a derivative\n",
    "A second interpretation to explain what is the jacobian is to observe that it is the derivative of the vector o_OT (the tool position in world frame). \n",
    "\n",
    "o_OT is a function of q: o_OT(q). We can take its derivative with respect to q, denoted d o_OT / dq. \n",
    "\n",
    "If o_OT had dimension 3x1, d o_OT / dq has dimension 3x(len(vq)). \n",
    "\n",
    "This derivative is equal to the Jacobian expressed in the world frame F_o: d o_OT / dq = o_Jtool.\n",
    "\n",
    "To be convinced of that, let's check the finite differences. We take a small movement dq, and see that the change in position o_OT(q+dq) corresponds to the linear prediction o_Jtool3*dq."
   ]
  },
  {
   "cell_type": "code",
   "execution_count": 17,
   "metadata": {},
   "outputs": [
    {
     "name": "stdout",
     "output_type": "stream",
     "text": [
      "[0.50159059 0.46573942 0.52387846]\n",
      "[0.50166402 0.46594339 0.52379199]\n"
     ]
    }
   ],
   "source": [
    "# Sample between -0.001 and 0.001\n",
    "EPS = 1e-3\n",
    "dq = (np.random.rand(robot.model.nv)*2-1)*EPS # random small joint velocity vector between EPS*[-1,1]\n",
    "\n",
    "# q2 = q+dq\n",
    "# we use pin.integrate instead of q+dq because pin.integrate takes care of the joint limits \n",
    "# (maps from the lie algebra to the lie group)\n",
    "q2 = pin.integrate(robot.model,q,dq)               \n",
    "pin.framesForwardKinematics(robot.model,robot.data,q) # update the frame placements\n",
    "\n",
    "# tool position for q\n",
    "o_OT = robot.data.oMf[IDX_TOOL].translation.copy()\n",
    "\n",
    "# tool position for q+dq\n",
    "pin.framesForwardKinematics(robot.model,robot.data,q2)\n",
    "o_OT2 = robot.data.oMf[IDX_TOOL].translation.copy()\n",
    "\n",
    "print((o_OT2 - o_OT)/EPS) # infinitesimal change in tool position computed by difference\n",
    "print((o_Jtool3@dq)/EPS) # infinitesimal change in spatial velocity computed by the jacobian\n",
    "# recall that o_Jtool3 was computed from q before."
   ]
  },
  {
   "cell_type": "markdown",
   "metadata": {},
   "source": [
    "<img src=\"tp3/derivativeJ.png\">"
   ]
  },
  {
   "cell_type": "markdown",
   "metadata": {},
   "source": [
    "#### Frame options in Pinocchio\n",
    "Most algorithms accept an option to specify in wich frame the spatial quantity should be expressed. The two basic options are *pin.LOCAL* and *pin.WORLD*. When related to velocity, *LOCAL* is the linear velocity of the center of the local frame (the TOOL_IDX frame, here) and the angular velocity, both expressed in the local frame. With *WORLD* frame, the two velocities are expressed in the world frame ... but remember that the linear velocity is then difficult to interpret.\n",
    "\n",
    "A last option is given for convenience, which does not respect the mathematics of spatial velocity, but matches the French \"torseur cinématique\": pin.LOCAL_WORLD_ALIGNED gives the linear velocity of the center of the local frame and the angular velocity, both expressed in the world frame. It is convenient especially when we are interested in considering the linear velocity as the derivative of the position."
   ]
  },
  {
   "cell_type": "code",
   "execution_count": 18,
   "metadata": {},
   "outputs": [],
   "source": [
    "o_Jtool = pin.computeFrameJacobian(robot.model,robot.data,q,IDX_TOOL,\n",
    "                                   pin.LOCAL_WORLD_ALIGNED)[:3,:]"
   ]
  },
  {
   "cell_type": "markdown",
   "metadata": {},
   "source": [
    "You can watch this video which explain with more illustrations the 3 frame options:  https://youtu.be/MLFtHLTprE4 "
   ]
  },
  {
   "cell_type": "markdown",
   "metadata": {},
   "source": [
    "#### Jacobian in 6D\n",
    "The jacobian of the frame indeed has 6 rows, and corresponds to the spatial velocity of the frame. It is expressed locally, in the tool frame (or more precisely the Galilean frame coincinding with the tool frame to the current time instant)."
   ]
  },
  {
   "cell_type": "code",
   "execution_count": 19,
   "metadata": {},
   "outputs": [],
   "source": [
    "tool_J = pin.computeFrameJacobian(robot.model,robot.data,q,IDX_TOOL)\n",
    "tool_nu = tool_J @ vq"
   ]
  },
  {
   "cell_type": "markdown",
   "metadata": {},
   "source": [
    "We denote by nu the spatial velocity. It is composed by the linear velocity of the center of the frame vtool and the angular velocity of the tool frame, both expressed in the tool frame: tool_nu = [ tool_vtool, tool_w ].\n",
    "\n"
   ]
  },
  {
   "cell_type": "code",
   "execution_count": 20,
   "metadata": {},
   "outputs": [],
   "source": [
    "tool_vtool = tool_nu[:3] # linear velocity\n",
    "tool_w = tool_nu[3:] # angular velocity"
   ]
  },
  {
   "cell_type": "markdown",
   "metadata": {},
   "source": [
    "We can instead express the spatial velocity in the world frame F_o by multiplying it by the so-called action matrix oXtool."
   ]
  },
  {
   "cell_type": "code",
   "execution_count": 21,
   "metadata": {},
   "outputs": [
    {
     "name": "stdout",
     "output_type": "stream",
     "text": [
      "tool_nu: [-0.08570321 -0.35356509 -0.17897427  0.13019049  0.94989874 -0.11049734]\n",
      "o_nu: [ 0.1949923  -0.24066223 -0.43889176 -0.66714496  0.69402834  0.06862296]\n"
     ]
    }
   ],
   "source": [
    "o_nu = oMtool.action @ tool_nu\n",
    "\n",
    "print(\"tool_nu:\",tool_nu)\n",
    "print(\"o_nu:\",o_nu)"
   ]
  },
  {
   "cell_type": "markdown",
   "metadata": {},
   "source": [
    "#### Log in SE(3)\n",
    "Finally, the log operator transforms a displacement M in SE(3) into the spatial (6D) velocity that should be applied during 1 second to achieve this displacement. The spatial velocity is expressed in the frame at the origin of the displacement (i.e. nu=log(oMtool) is expressed in the world frame F_o). In Pinocchio, the log returns an object of class Motion, that can be converted to a numpy vector."
   ]
  },
  {
   "cell_type": "code",
   "execution_count": 22,
   "metadata": {},
   "outputs": [
    {
     "name": "stdout",
     "output_type": "stream",
     "text": [
      "[ 0.55175193  0.1133963   0.10728851 -0.49736873  0.16658455  0.84604549]\n",
      "  v = 0.299972 -1.51109 0.159832\n",
      "  w = 0.671806 -1.59688 0.709359\n",
      "\n",
      "[ 0.29997231 -1.51109117  0.15983208  0.67180551 -1.59687758  0.70935926]\n"
     ]
    }
   ],
   "source": [
    "o_nu = pin.log(oMtool).action @ tool_nu\n",
    "# tool_nu: The spatial velocity of the eff wrt the tool frame, expressed in the tool frame.\n",
    "# oXtool: The action matrix that transforms spatial velocities from the tool frame to the world frame.\n",
    "# The result - o_nu = oXtool⋅tool_nu:\n",
    "# The same spatial velocity w.r.t. the tool frame but now expressed in the world frame.\n",
    "# Key Point:\n",
    "    # The motion is relative to the tool frame.\n",
    "    # The velocity vector is expressed in the world frame.\n",
    "\n",
    "print(o_nu)\n",
    "\n",
    "print(pin.log(oMtool))\n",
    "print(pin.log(oMtool).vector) # to express as vector\n",
    "\n",
    "# pin.log(oMtool) is the spatial velocity w.r.t. the world frame, expressed in the world frame."
   ]
  },
  {
   "cell_type": "markdown",
   "metadata": {},
   "source": [
    "## Inverse kinematics for the moving the robot effector\n",
    "We will first move only the robot end effector, to reach a target defined by a frame $F_{goal}$."
   ]
  },
  {
   "cell_type": "code",
   "execution_count": 24,
   "metadata": {},
   "outputs": [
    {
     "data": {
      "text/html": [
       "\n",
       "            <div style=\"height: 400px; width: 100%; overflow-x: auto; overflow-y: hidden; resize: both\">\n",
       "            <iframe src=\"http://127.0.0.1:7002/static/\" style=\"width: 100%; height: 100%; border: none\"></iframe>\n",
       "            </div>\n",
       "            "
      ],
      "text/plain": [
       "<IPython.core.display.HTML object>"
      ]
     },
     "execution_count": 24,
     "metadata": {},
     "output_type": "execute_result"
    }
   ],
   "source": [
    "# %load tp3/generated/inverse_kinematics_goal\n",
    "# Goal placement, and integration in the viewer of the goal.\n",
    "oMgoal = pin.SE3(pin.Quaternion(-0.5, 0.58, -0.39, 0.52).normalized().matrix(),\n",
    "                np.array([1.2, .4, .7]))\n",
    "viz.addBox('goal', [.1,.1,.1], [ .1,.1,.5, .6] )\n",
    "viz.applyConfiguration('goal',oMgoal)\n",
    "viz.viewer.jupyter_cell()"
   ]
  },
  {
   "cell_type": "markdown",
   "metadata": {},
   "source": [
    "### Position the effector (3d)\n",
    "It is time to write your first control law. Write a for-loop to iterate along the control cycles of the robot. At each control cycle, you should:\n",
    "* compute the Jacobian 3D in the world frame o_Jtool3\n",
    "* compute the vector from the tool to the goal, expressed in world frame: o_TG = o_goal - o_tool. Interpret this vector as a velocity command\n",
    "* compute the control law as vq=-pinv(J)*o_TG\n",
    "* integrate the velocity vq during DT to get a new configuration q.\n",
    "You might want to start from the following initial configuration, or from any random one."
   ]
  },
  {
   "cell_type": "code",
   "execution_count": 25,
   "metadata": {},
   "outputs": [],
   "source": [
    "# %load tp3/generated/inverse_kinematics_init\n",
    "# Robot initial configuration.\n",
    "q0 = np.array([ 0.  ,  0.  ,  1.  ,  0.  ,  0.18,  1.37, -0.24, -0.98,  0.98,\n",
    "                0.  ,  0.  ,  0.  ,  0.  , -0.13,  0.  ,  0.  ,  0.  ,  0.  ])\n"
   ]
  },
  {
   "cell_type": "markdown",
   "metadata": {},
   "source": [
    "It is a good idea to store the values of the error between tool and goal o_TG, to plot them later. For that, simply append each o_TG computed at every control cycle in a list."
   ]
  },
  {
   "cell_type": "code",
   "execution_count": 26,
   "metadata": {},
   "outputs": [],
   "source": [
    "# %load tp3/generated/inverse_kinematics_3d_loop\n",
    "q = q0.copy()\n",
    "viz.display(q)\n",
    "herr = [] # Log the value of the error between tool and goal.\n",
    "# Loop on an inverse kinematics for 300 iterations.\n",
    "\n",
    "# REMINDER target is at oMgoal\n",
    "for i in range(300):  # Integrate over 3 second of robot life\n",
    "\n",
    "    # Run the algorithms that outputs values in robot.data\n",
    "    pin.framesForwardKinematics(robot.model,robot.data,q) # updates robot.data.oMf\n",
    "    pin.computeJointJacobians(robot.model,robot.data,q) # updates robot.data.J\n",
    "\n",
    "    # Placement of effector in world (local aligned) frame\n",
    "    oMtool = robot.data.oMf[IDX_TOOL]\n",
    "\n",
    "    # error vector (linear velocity) from tool to goal\n",
    "    o_goal = oMgoal.translation\n",
    "    o_tool = oMtool.translation\n",
    "    o_nu = err = o_goal - o_tool\n",
    "\n",
    "    # compute the jacobian w.r.t local world aligned\n",
    "    o_Jtool3 = pin.computeFrameJacobian(robot.model, robot.data, q, IDX_TOOL, pin.LOCAL_WORLD_ALIGNED)[:3,:]\n",
    "\n",
    "    # since this is an approximation, we take a small error\n",
    "    small_o_nu = o_nu*DT\n",
    "\n",
    "    # compute joint velocities\n",
    "    vq = pinv(o_Jtool3)@small_o_nu\n",
    "\n",
    "    # retrieve joint angles by integrating the joint velocities\n",
    "    q = pin.integrate(robot.model, q, vq)\n",
    "\n",
    "    #-----------OFFICIAL SOLUTION------------\n",
    "\n",
    "    # # Placement from world frame o to frame f oMtool\n",
    "    # oMtool = robot.data.oMf[IDX_TOOL]\n",
    "\n",
    "    # # 3D jacobian in world frame\n",
    "    # o_Jtool3 = pin.computeFrameJacobian(robot.model,robot.data,q,IDX_TOOL,pin.LOCAL_WORLD_ALIGNED)[:3,:]\n",
    "\n",
    "    # # vector from tool to goal, in world frame\n",
    "    # o_TG = oMtool.translation-oMgoal.translation\n",
    "    \n",
    "    # # Control law by least square\n",
    "    # vq = -pinv(o_Jtool3)@o_TG\n",
    "\n",
    "    # q = pin.integrate(robot.model,q, vq * DT)\n",
    "    viz.display(q)\n",
    "    time.sleep(1e-3)\n",
    "\n",
    "    herr.append(err) \n"
   ]
  },
  {
   "cell_type": "markdown",
   "metadata": {},
   "source": [
    "It is interesting to plot the behavior of the robot. If the error at each iteration has been stored as a list of 3x1 matrices, the following code plots it."
   ]
  },
  {
   "cell_type": "code",
   "execution_count": 27,
   "metadata": {},
   "outputs": [
    {
     "data": {
      "text/plain": [
       "Text(0, 0.5, 'error (m)')"
      ]
     },
     "execution_count": 27,
     "metadata": {},
     "output_type": "execute_result"
    },
    {
     "data": {
      "image/png": "[encoded data removed]",
      "text/plain": [
       "<Figure size 640x480 with 1 Axes>"
      ]
     },
     "metadata": {},
     "output_type": "display_data"
    }
   ],
   "source": [
    "plt.plot(herr)\n",
    "plt.xlabel('control cycle (iter)')\n",
    "plt.ylabel('error (m)')"
   ]
  },
  {
   "cell_type": "markdown",
   "metadata": {},
   "source": [
    "We can observe that each component of the error converges towards 0 following an exponential trajetory. The convergence is assymptotic. To accelerate the convergence, increase the gain of the control law ($v_q = - \\lambda J^+ e$)."
   ]
  },
  {
   "cell_type": "markdown",
   "metadata": {},
   "source": [
    "### Place the end effector (6D)\n",
    "The previous control law brings the center of the effector toward the center of the goal frame. However, it does not control the orientation of the end effector: the axes of the two frames F_tool and F_goal do not converge.\n",
    "We should now modify the control law to take into account the tool orientation. For that, we compute the error to be the SE(3) log of the displacement from the tool frame F_tool to the goal frame F_goal."
   ]
  },
  {
   "cell_type": "code",
   "execution_count": 28,
   "metadata": {},
   "outputs": [],
   "source": [
    "toolMgoal = oMtool.inverse()*oMgoal\n",
    "tool_nu = pin.log(toolMgoal).vector"
   ]
  },
  {
   "cell_type": "markdown",
   "metadata": {},
   "source": [
    "This error tool_nu is a 6d vector, that can be interpreted as the spatial (6d) velocity that should be applied during 1 second to displace the tool frame F_tool (placed at oMtool) to the goal frame F_goal (placed at oMgoal). This spatial velocity is expressed in the tool frame F_tool. It then corresponds to the 6D jacobian, that is also computed in the same frame F_tool.\n",
    "\n",
    "Implement a second control law, following the same pattern than the previous control law. At each control cycle, you should:\n",
    "* compute the displacement between F_tool and F_goal, denoted toolMgoal\n",
    "* compute the 6D error using the SE(3) log tool_nu\n",
    "* compute the 6D jacobian tool_Jtool\n",
    "* compute the control law vq = pinv(J)*nu\n",
    "* integrate the robot velocity vq during DT to get a new configuration q\n",
    "* log the error by storing it in a list herr."
   ]
  },
  {
   "cell_type": "code",
   "execution_count": 29,
   "metadata": {},
   "outputs": [
    {
     "data": {
      "text/plain": [
       "<bound method actInv of   R =\n",
       " 0.162454 0.0670037  0.984438\n",
       "-0.963822 -0.202894  0.172862\n",
       " 0.211319 -0.976906 0.0316186\n",
       "  p = 1.2 0.4 0.7\n",
       ">"
      ]
     },
     "execution_count": 29,
     "metadata": {},
     "output_type": "execute_result"
    }
   ],
   "source": [
    "oMgoal.actInv"
   ]
  },
  {
   "cell_type": "code",
   "execution_count": 30,
   "metadata": {},
   "outputs": [],
   "source": [
    "# %load tp3/generated/inverse_kinematics_6d_loop\n",
    "q = q0.copy()\n",
    "viz.display(q)\n",
    "herr = []\n",
    "\n",
    "# RECALL goal is in oMgoal\n",
    "for i in range(400):  # Integrate over 3 second of robot life\n",
    "\n",
    "    # Update the frames and jacobians according to the new configuration q\n",
    "    pin.framesForwardKinematics(robot.model, robot.data, q)\n",
    "    pin.computeJointJacobians(robot.model, robot.data, q)\n",
    "\n",
    "    # Compute jacobian\n",
    "\n",
    "    tool_Jtool = pin.computeFrameJacobian(robot.model, robot.data, q, IDX_TOOL)\n",
    "\n",
    "    # Get tool pose\n",
    "    oMtool = robot.data.oMf[IDX_TOOL]\n",
    "\n",
    "    # Get error transpose from tool to goal\n",
    "    toolMgoal = oMtool.inverse()*oMgoal\n",
    "\n",
    "    # get error spatial velocity\n",
    "    tool_nu = pin.log(toolMgoal).vector\n",
    "\n",
    "    # make error small\n",
    "    small_tool_nu = tool_nu*DT\n",
    "\n",
    "    vq = pinv(tool_Jtool)@small_tool_nu\n",
    "\n",
    "    q = pin.integrate(robot.model, q, vq)\n",
    "\n",
    "\n",
    "    #----------ORIGINAL SOLUTION---------\n",
    "\n",
    "    # # Run the algorithms that outputs values in robot.data\n",
    "    # pin.framesForwardKinematics(robot.model, robot.data, q)\n",
    "    # pin.computeJointJacobians(robot.model, robot.data, q)\n",
    "    \n",
    "    # # Placement from world frame o to frame f oMtool  \n",
    "    # oMtool = robot.data.oMf[IDX_TOOL]\n",
    "\n",
    "    # # 6D error between the two frame\n",
    "    # toolMgoal = oMtool.inverse()*oMgoal\n",
    "    # tool_nu = pin.log(toolMgoal).vector\n",
    "\n",
    "    # # Get corresponding jacobian\n",
    "    # tool_Jtool = pin.computeFrameJacobian(robot.model, robot.data, q, IDX_TOOL)\n",
    "\n",
    "    # # Control law by least square\n",
    "    # vq = pinv(tool_Jtool)@tool_nu\n",
    "\n",
    "    # q = pin.integrate(robot.model,q, vq * DT)\n",
    "    \n",
    "    viz.display(q)\n",
    "    time.sleep(1e-3)\n",
    "\n",
    "    herr.append(tool_nu)\n"
   ]
  },
  {
   "cell_type": "markdown",
   "metadata": {},
   "source": [
    "The tool frame F_tool converges toward the gooal frame F_goal: the center and the axes are finally aligned. The trajectory of the tool center is not a straight line, as the frame F_tool follows a \"straight\" line, not in R^3 but in SE(3).\n",
    "We can also plot the error (assuming that herr is a list of the 6D errors herr)."
   ]
  },
  {
   "cell_type": "code",
   "execution_count": 31,
   "metadata": {},
   "outputs": [
    {
     "data": {
      "image/png": "[encoded data removed]",
      "text/plain": [
       "<Figure size 640x480 with 2 Axes>"
      ]
     },
     "metadata": {},
     "output_type": "display_data"
    }
   ],
   "source": [
    "# %load tp3/generated/inverse_kinematics_plot\n",
    "plt.subplot(211)\n",
    "plt.plot([ e[:3] for e in herr])\n",
    "plt.xlabel('control cycle (iter)')\n",
    "plt.ylabel('error (m)')\n",
    "plt.subplot(212)\n",
    "plt.plot([ e[3:] for e in herr])\n",
    "plt.xlabel('control cycle (iter)')\n",
    "plt.ylabel('error (rad)');\n"
   ]
  },
  {
   "cell_type": "markdown",
   "metadata": {},
   "source": [
    "### Inverse kinematics for two tasks\n",
    "We have only yet controlled the robot with a single task (either the 3d position or the 6d placement errors). Let's see how to take into account a second task. Let's first introduce a second task. \n",
    "\n",
    "#### Introducing a second task: control the gaze\n",
    "The robot has an additional frame named F_gaze, attached to the head and located 40 cm in front of the cameras. The task will be to position (3d) the center of this frame on an object of interest (a red ball)."
   ]
  },
  {
   "cell_type": "code",
   "execution_count": 32,
   "metadata": {},
   "outputs": [
    {
     "name": "stdout",
     "output_type": "stream",
     "text": [
      "You can open the visualizer by visiting the following URL:\n",
      "http://127.0.0.1:7003/static/\n"
     ]
    }
   ],
   "source": [
    "# %load tp3/generated/control_head_robot\n",
    "robot = loadTiago(addGazeFrame=True)\n",
    "viz = MeshcatVisualizer(robot)\n"
   ]
  },
  {
   "cell_type": "code",
   "execution_count": 33,
   "metadata": {},
   "outputs": [],
   "source": [
    "# %load tp3/generated/control_head_gaze\n",
    "IDX_GAZE = robot.model.getFrameId('framegaze')\n",
    "\n",
    "# Add a small ball as a visual target to be reached by the robot\n",
    "ball = np.array([ 1.2,0.5,1.1 ])\n",
    "viz.addSphere('ball', .05, [ .8,.1,.5, .8] )\n",
    "viz.applyConfiguration('ball', list(ball)+[0,0,0,1])\n",
    "viz.addBox('goal', [.1,.1,.1], [ .1,.1,.5, .6] )\n",
    "viz.applyConfiguration('goal',oMgoal)\n"
   ]
  },
  {
   "cell_type": "code",
   "execution_count": 34,
   "metadata": {},
   "outputs": [
    {
     "data": {
      "text/html": [
       "\n",
       "            <div style=\"height: 400px; width: 100%; overflow-x: auto; overflow-y: hidden; resize: both\">\n",
       "            <iframe src=\"http://127.0.0.1:7003/static/\" style=\"width: 100%; height: 100%; border: none\"></iframe>\n",
       "            </div>\n",
       "            "
      ],
      "text/plain": [
       "<IPython.core.display.HTML object>"
      ]
     },
     "execution_count": 34,
     "metadata": {},
     "output_type": "execute_result"
    }
   ],
   "source": [
    "viz.display(q0)\n",
    "viz.viewer.jupyter_cell()"
   ]
  },
  {
   "cell_type": "markdown",
   "metadata": {},
   "source": [
    "Controlling this point can be done by achieving a simple variation of the control law for positioning (3d) the robot tool."
   ]
  },
  {
   "cell_type": "code",
   "execution_count": 35,
   "metadata": {},
   "outputs": [],
   "source": [
    "# %load tp3/generated/control_head_gaze_loop\n",
    "q = q0.copy()\n",
    "herr = [] # Log the value of the error between gaze and ball.\n",
    "# Loop on an inverse kinematics for 300 iterations.\n",
    "for i in range(300):  # Integrate over 3 second of robot life\n",
    "\n",
    "    # Run the algorithms that outputs values in robot.data\n",
    "    pin.framesForwardKinematics(robot.model,robot.data,q)\n",
    "    pin.computeJointJacobians(robot.model,robot.data,q)\n",
    "\n",
    "    # Placement from world frame o to frame f oMgaze\n",
    "    oMgaze = robot.data.oMf[IDX_GAZE]\n",
    "\n",
    "    # 6D jacobian in local frame\n",
    "    o_Jgaze3 = pin.computeFrameJacobian(robot.model, robot.data, q, IDX_GAZE,pin.LOCAL_WORLD_ALIGNED)[:3,:]\n",
    "\n",
    "    # vector from gaze to ball, in world frame\n",
    "    o_GazeBall = ball - oMgaze.translation\n",
    "    \n",
    "    vq = pinv(o_Jgaze3) @ o_GazeBall\n",
    "\n",
    "    q = pin.integrate(robot.model,q, vq * DT)\n",
    "    viz.display(q)\n",
    "    time.sleep(1e-3)\n",
    "\n",
    "    herr.append(o_GazeBall) \n"
   ]
  },
  {
   "cell_type": "markdown",
   "metadata": {},
   "source": [
    "#### Performing 2 tasks\n",
    "\n",
    "We now have two tasks (e1,J1) controlling the tool and (e2,J2) controlling the gaze. \n",
    "If we try to solve them concurrently, they can end up being conflicting.\n",
    "\n",
    "There is a trick that consists in solving the second task in the so-called null space \n",
    "of the first one. In our case, we want to only address the gaze task if it does not affect negatively affect \n",
    "the placement of the hand. One option to solve this issue is to ponderate the task by assigning different weights to the tasks. Another way is to try to stricly enforce the priority of one task over the other.\n",
    "\n",
    "Intuitively, we can easily understand that some joints have no effect on task 1: the 2 head dofs have no influence on the position of the hand, so we are free to modify them. However, the prismatic joint and the mobile basis, if actuated, can enter in conflict with the tool task. Still, they can be actuated in such a way that they do not perturb the achievement of the first task while helping with the second one, although it is less trivial to see it.\n",
    "\n",
    "The null space projector P of a jacobian J takes any vector $vq_k$ and projects it into a new vector such that\n",
    "$$\\nu = J v = J ( vq + P vq_k ),  \\forall vq_k$$\n",
    "\n",
    "In other words, we can change the velocity vector vq to a better suited one without modifying the effector velocity obtained (Remember that this is only true locally though, so $vq_k$ should have a small norm); \n",
    "\n",
    "The null space projector of $J_1$ can be computed using the pseudoinverse.\n",
    "Following the control law performing task 1 and task 2 in the null space of task 1 is:\n",
    "$$vq_1 = J_1^+ v_1^*$$\n",
    "$$P_1 = I_{15} - J_1^+ J_1$$\n",
    "$$vq_2 = vq_1 + (J_2 P_1)^+ ( v_2^* - J_2 vq_1)$$\n",
    "\n",
    "We can now implement a control law solving the two tasks, i.e positioning the tool while controlling the gaze."
   ]
  },
  {
   "cell_type": "markdown",
   "metadata": {},
   "source": [
    "#### My explanation of the null space projector\n",
    "\n",
    "<b>Task 1</b> is the task of positioning the tool. $J_1$ is its corresponding Jacobian, that indicates how changes in joint velocities affect the position of the tool.\n",
    "\n",
    "The <b>null space projector of $J_1$</b> projects any joint velocity vector $vq_2$ (for task 2) to the subspace of the joint velocities that do not affect the tool position. \n",
    "\n",
    "The <b>null space projector of $J_1$</b> is defined as \n",
    "$$P_1 = I_{dim(vq)} - J_1^+ J_1$$\n",
    "\n",
    "$vq_1 = J_1^+ v_1^*$ is the joint velocity vector that achieves the desired tool position $\\nu_1^*$ for task 1.\n",
    "\n",
    "To calculate the joing velocity vector $vq_{12}$ that achieves the desired tool position $\\nu_1^*$ for task 1 and the desired gaze position $\\nu_2^*$ for task 2 in the null space of $J_1$/task 1:\n",
    "\n",
    "$$vq_{12} = vq_1 + (J_2P_1)^+(\\nu_2^* - J_2 vq_1)$$\n",
    "\n",
    "where\n",
    "- $\\nu_2^*$ is the desired spatial velocity to achieve task 2.\n",
    "- $J_2vq_1$ is the part of the spatial velocity to achieve task 2 that is already achieved when doing task 1.\n",
    "- $\\nu_2^* - J_2 vq_1 = \\nu_2^{remaining}$ is the remaining part of the spatial velocity to achieve task 2.\n",
    "\n",
    "We say $(J_2P_1)^+(\\nu_2^* - J_2 vq_1) = vq_2^{null\\_space\\_J_1}$ is the joint velocity vector that achieves the remaining of task 2 in the null space of task 1. If we add it to the joint velocity vector that achieves task 1, we get the joint velocity vector that achieves both tasks.\n",
    "\n",
    "We can summarise it all in:\n",
    "\n",
    "$$vq_{12} = vq_1 + \\overbrace{(J_2P_1)^+(\\underbrace{\\nu_2^* - J_2 vq_1}_{\\nu_2^{remaining}})}^{vq_2^{null\\_space\\_J_1}}$$\n",
    "\n",
    "$$vq_{12} = vq_1 + vq_2^{null\\_space\\_J_1}$$\n",
    "\n"
   ]
  },
  {
   "cell_type": "code",
   "execution_count": 36,
   "metadata": {},
   "outputs": [],
   "source": [
    "# %load tp3/generated/control_head_multi\n",
    "q = q0.copy()\n",
    "viz.display(q)\n",
    "herr = [] # Log the value of the error between tool and goal.\n",
    "herr2 = [] # Log the value of the error between gaze and ball.\n",
    "# Loop on an inverse kinematics for 300 iterations.\n",
    "for i in range(500):  # Integrate over 3 second of robot life\n",
    "\n",
    "    pin.framesForwardKinematics(robot.model,robot.data,q)\n",
    "    pin.computeJointJacobians(robot.model,robot.data,q)\n",
    "\n",
    "    # Get poses for the effector and the gaze\n",
    "    oMtool = robot.data.oMf[IDX_TOOL]\n",
    "    oMgaze = robot.data.oMf[IDX_GAZE]\n",
    "\n",
    "    # get tool error\n",
    "    toolMgoal = oMtool.inverse()*oMgoal\n",
    "    tool_nu = pin.log(toolMgoal).vector\n",
    "\n",
    "    tool_Jtool = pin.computeFrameJacobian(robot.model, robot.data, q, IDX_TOOL)\n",
    "\n",
    "    vq1 = pinv(tool_Jtool)@tool_nu\n",
    "\n",
    "\n",
    "    # get gaze error\n",
    "    o_GB = ball - oMgaze.translation\n",
    "\n",
    "    o_Jgaze3 = pin.computeFrameJacobian(robot.model, robot.data, q, IDX_GAZE, pin.LOCAL_WORLD_ALIGNED)[:3,:]\n",
    "\n",
    "    \n",
    "    # projection\n",
    "    P1 = np.eye(robot.nv) - pinv(tool_Jtool)@tool_Jtool\n",
    "\n",
    "    remaining_nu2 = o_GB - o_Jgaze3@vq1\n",
    "    null_vq2 = pinv(o_Jgaze3@P1)@remaining_nu2\n",
    "\n",
    "    vq12 = vq1 + null_vq2\n",
    "\n",
    "    q = pin.integrate(robot.model, q, vq12*DT)\n",
    "\n",
    "\n",
    "    # # Gaze task\n",
    "    # oMgaze = robot.data.oMf[IDX_GAZE]\n",
    "    # o_Jgaze3 = pin.computeFrameJacobian(robot.model, robot.data, q, IDX_GAZE,pin.LOCAL_WORLD_ALIGNED)[:3,:]\n",
    "    # o_GazeBall = oMgaze.translation-ball\n",
    "\n",
    "    # # Tool task\n",
    "    # oMtool = robot.data.oMf[IDX_TOOL]\n",
    "    # o_Jtool3 = pin.computeFrameJacobian(robot.model,robot.data,q,IDX_TOOL,pin.LOCAL_WORLD_ALIGNED)[:3,:]\n",
    "    # o_TG = oMtool.translation-oMgoal.translation\n",
    "    \n",
    "    # vq = -pinv(o_Jtool3) @ o_TG\n",
    "    # Ptool = np.eye(robot.nv)-pinv(o_Jtool3) @ o_Jtool3\n",
    "    # vq += pinv(o_Jgaze3 @ Ptool) @ (-o_GazeBall - o_Jgaze3 @ vq)\n",
    "\n",
    "    # q = pin.integrate(robot.model, q, vq * DT)\n",
    "    viz.display(q)\n",
    "    time.sleep(1e-3)\n",
    "\n",
    "    herr.append(toolMgoal.translation)\n",
    "    herr2.append(o_GB) \n"
   ]
  },
  {
   "cell_type": "markdown",
   "metadata": {},
   "source": [
    "A third task can be implemented as well by computing the null space of the two first tasks.\n",
    "\n",
    "Just as\n",
    "\n",
    "$$ P_1 = I - J_1^+J_1$$\n",
    "\n",
    "$$ P_2 = P_1 - (J_2P_1)^+J_2P_1$$\n",
    "\n",
    "Then\n",
    "\n",
    "$vq_{12}$ achieves the first two tasks as before. Now, $vq_{123}$ achieves the third task in the null space of the first two tasks:\n",
    "\n",
    "$$vq_{123} = vq_{12} + (J_3P_2)^+(\\nu_3^* - J_3vq_{12})$$"
   ]
  },
  {
   "cell_type": "code",
   "execution_count": 37,
   "metadata": {},
   "outputs": [],
   "source": [
    "Pgaze = P1 - pinv(o_Jgaze3 @ P1) @ o_Jgaze3 @ P1"
   ]
  },
  {
   "cell_type": "markdown",
   "metadata": {},
   "source": [
    "## Optional extra work\n",
    "\n",
    "I. Implement the inverse kinematics loop using a constrained optimisation library. You can use quadprod to formulate the problem and enforce joint limits as hard constraints. If for some reason you can't use quadprog you can use slsqp, although it is a bit overkill: we have seen in class that the optimisation problem we want to solve is convex, so we don't need a non-linear solver for that.\n",
    "You can also add a secondary cost that consists in computing a configuration close to the default configuration robot.q0 (ignoring the mobile base position in the cost). This is a called a postural task and is a classic way to ensure that the robot poses remain more or less natural.\n",
    "\n",
    "\n",
    "II. Load an extra cube in the viewer to figure a table. First control the robot hand to reach an arbitrary point on the table (don't mind for the collision). Then implement a control law to control three tasks:\n",
    "* the tool frame should be kept on the table (i.e. only the z component of the error matter, select only the 3rd row of the matrix).\n",
    "* the gaze should be controlled to reach the position of a ball object positionned on the table.\n",
    "* the center of the basis frame should reach a given target on the floor. For this task, only the x- and y- component of the task matter, select only the 2 first rows.\n"
   ]
  },
  {
   "cell_type": "code",
   "execution_count": 38,
   "metadata": {},
   "outputs": [
    {
     "ename": "ValueError",
     "evalue": "matrix G is not positive definite",
     "output_type": "error",
     "traceback": [
      "\u001b[0;31m---------------------------------------------------------------------------\u001b[0m",
      "\u001b[0;31mValueError\u001b[0m                                Traceback (most recent call last)",
      "Cell \u001b[0;32mIn[38], line 43\u001b[0m\n\u001b[1;32m     40\u001b[0m G \u001b[38;5;241m=\u001b[39m np\u001b[38;5;241m.\u001b[39mvstack([np\u001b[38;5;241m.\u001b[39meye(robot\u001b[38;5;241m.\u001b[39mnv), \u001b[38;5;241m-\u001b[39mnp\u001b[38;5;241m.\u001b[39meye(robot\u001b[38;5;241m.\u001b[39mnv)])\n\u001b[1;32m     41\u001b[0m h \u001b[38;5;241m=\u001b[39m np\u001b[38;5;241m.\u001b[39mhstack([robot\u001b[38;5;241m.\u001b[39mmodel\u001b[38;5;241m.\u001b[39mvelocityLimit, robot\u001b[38;5;241m.\u001b[39mmodel\u001b[38;5;241m.\u001b[39mvelocityLimit])\n\u001b[0;32m---> 43\u001b[0m vq \u001b[38;5;241m=\u001b[39m \u001b[43mquadprog_solve_qp\u001b[49m\u001b[43m(\u001b[49m\u001b[43mH\u001b[49m\u001b[43m,\u001b[49m\u001b[43m \u001b[49m\u001b[43ml\u001b[49m\u001b[43m,\u001b[49m\u001b[43m \u001b[49m\u001b[43mG\u001b[49m\u001b[43m,\u001b[49m\u001b[43m \u001b[49m\u001b[43mh\u001b[49m\u001b[43m)\u001b[49m\n\u001b[1;32m     44\u001b[0m q \u001b[38;5;241m=\u001b[39m pin\u001b[38;5;241m.\u001b[39mintegrate(robot\u001b[38;5;241m.\u001b[39mmodel, q, vq\u001b[38;5;241m*\u001b[39mDT)\n\u001b[1;32m     45\u001b[0m viz\u001b[38;5;241m.\u001b[39mdisplay(q)\n",
      "Cell \u001b[0;32mIn[38], line 26\u001b[0m, in \u001b[0;36mquadprog_solve_qp\u001b[0;34m(H, l, G, h, C, d, verbose)\u001b[0m\n\u001b[1;32m     24\u001b[0m     qp_C \u001b[38;5;241m=\u001b[39m \u001b[38;5;241m-\u001b[39mG\u001b[38;5;241m.\u001b[39mT\n\u001b[1;32m     25\u001b[0m     qp_b \u001b[38;5;241m=\u001b[39m \u001b[38;5;241m-\u001b[39mh\n\u001b[0;32m---> 26\u001b[0m res \u001b[38;5;241m=\u001b[39m \u001b[43mquadprog\u001b[49m\u001b[38;5;241;43m.\u001b[39;49m\u001b[43msolve_qp\u001b[49m\u001b[43m(\u001b[49m\u001b[43mqp_G\u001b[49m\u001b[43m,\u001b[49m\u001b[43m \u001b[49m\u001b[43mqp_a\u001b[49m\u001b[43m,\u001b[49m\u001b[43m \u001b[49m\u001b[43mqp_C\u001b[49m\u001b[43m,\u001b[49m\u001b[43m \u001b[49m\u001b[43mqp_b\u001b[49m\u001b[43m,\u001b[49m\u001b[43m \u001b[49m\u001b[43mmeq\u001b[49m\u001b[43m)\u001b[49m\n\u001b[1;32m     27\u001b[0m \u001b[38;5;28;01mif\u001b[39;00m verbose:\n\u001b[1;32m     28\u001b[0m     \u001b[38;5;28;01mreturn\u001b[39;00m res\n",
      "File \u001b[0;32mquadprog/quadprog.pyx:105\u001b[0m, in \u001b[0;36mquadprog.solve_qp\u001b[0;34m()\u001b[0m\n",
      "\u001b[0;31mValueError\u001b[0m: matrix G is not positive definite"
     ]
    }
   ],
   "source": [
    "import quadprog\n",
    "\n",
    "# inverse kinematics for tool task using quadratic programming\n",
    "def quadprog_solve_qp(H, l, G=None, h=None, C=None, d=None, verbose=False):\n",
    "    \"\"\"\n",
    "    min (1/2)x' H x + l' x\n",
    "    subject to  G x <= h\n",
    "    subject to  C x  = d\n",
    "    \"\"\"\n",
    "    qp_G = 0.5 * (H + H.T)  # make sure P is symmetric\n",
    "    qp_a = -l\n",
    "    qp_C = None\n",
    "    qp_b = None\n",
    "    meq = 0\n",
    "    if C is not None: # if equality constraint\n",
    "        if G is not None: # if both equality and inequality constraints\n",
    "            qp_C = -np.vstack([C, G]).T\n",
    "            qp_b = -np.hstack([d, h])\n",
    "        else: # if only equality constraints\n",
    "            qp_C = -C.transpose()\n",
    "            qp_b = -d\n",
    "        meq = C.shape[0]\n",
    "    elif G is not None:  # no equality constraint, only inequality constraint\n",
    "        qp_C = -G.T\n",
    "        qp_b = -h\n",
    "    res = quadprog.solve_qp(qp_G, qp_a, qp_C, qp_b, meq)\n",
    "    if verbose:\n",
    "        return res\n",
    "    return res[0]\n",
    "\n",
    "\n",
    "q = q0.copy()\n",
    "\n",
    "for i in range(500):\n",
    "    J = pin.computeFrameJacobian(robot.model, robot.data, q, IDX_TOOL, pin.LOCAL_WORLD_ALIGNED)\n",
    "    desired_nu = pin.log(oMgoal).vector\n",
    "    H = J.T @ J\n",
    "    l = -J.T @ desired_nu\n",
    "\n",
    "    G = np.vstack([np.eye(robot.nv), -np.eye(robot.nv)])\n",
    "    h = np.hstack([robot.model.velocityLimit, robot.model.velocityLimit])\n",
    "\n",
    "    vq = quadprog_solve_qp(H, l, G, h)\n",
    "    q = pin.integrate(robot.model, q, vq*DT)\n",
    "    viz.display(q)\n",
    "    time.sleep(1e-3)"
   ]
  },
  {
   "cell_type": "code",
   "execution_count": null,
   "metadata": {},
   "outputs": [],
   "source": []
  },
  {
   "cell_type": "code",
   "execution_count": null,
   "metadata": {},
   "outputs": [],
   "source": []
  }
 ],
 "metadata": {
  "kernelspec": {
   "display_name": "Python 3 (ipykernel)",
   "language": "python",
   "name": "python3"
  },
  "language_info": {
   "codemirror_mode": {
    "name": "ipython",
    "version": 3
   },
   "file_extension": ".py",
   "mimetype": "text/x-python",
   "name": "python",
   "nbconvert_exporter": "python",
   "pygments_lexer": "ipython3",
   "version": "3.12.6"
  }
 },
 "nbformat": 4,
 "nbformat_minor": 2
}
